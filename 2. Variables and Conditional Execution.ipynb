{
  "nbformat": 4,
  "nbformat_minor": 0,
  "metadata": {
    "colab": {
      "name": "2. Variables and Conditional Execution.ipynb",
      "provenance": []
    },
    "kernelspec": {
      "name": "python3",
      "display_name": "Python 3"
    }
  },
  "cells": [
    {
      "cell_type": "markdown",
      "metadata": {
        "id": "gV8HUP_kVgGf"
      },
      "source": [
        "# Variables"
      ]
    },
    {
      "cell_type": "markdown",
      "source": [
        "Create Variables"
      ],
      "metadata": {
        "id": "NN9Q6JlNhKEo"
      }
    },
    {
      "cell_type": "code",
      "metadata": {
        "id": "vk3zrj66fe4N",
        "colab": {
          "base_uri": "https://localhost:8080/"
        },
        "outputId": "1739da2e-76e6-483a-fb3e-543d178ca44f"
      },
      "source": [
        "x = 6\n",
        "y = 3\n",
        "print(x)\n",
        "print(y)"
      ],
      "execution_count": null,
      "outputs": [
        {
          "output_type": "stream",
          "text": [
            "9\n"
          ],
          "name": "stdout"
        }
      ]
    },
    {
      "cell_type": "markdown",
      "source": [
        "More Variable Types"
      ],
      "metadata": {
        "id": "wJQ0H_buAYFf"
      }
    },
    {
      "cell_type": "code",
      "metadata": {
        "id": "QacDuJCWiV3R",
        "colab": {
          "base_uri": "https://localhost:8080/"
        },
        "outputId": "5c14224d-6c15-447e-ee4c-f3fc1a8993b5"
      },
      "source": [
        "name = 'Sanath Jayasuriya'\n",
        "email = 'sanath@cricket.com'\n",
        "weight = 60\n",
        "\n",
        "team = ['Sanath', 'Sanga','Andrew','David']\n",
        "player = ['David Warner', 'david@cricket.com', 35] \n",
        "print(player)\n"
      ],
      "execution_count": null,
      "outputs": [
        {
          "output_type": "stream",
          "name": "stdout",
          "text": [
            "['David Warner', 'david@cricket.com', 35]\n"
          ]
        }
      ]
    },
    {
      "cell_type": "markdown",
      "source": [
        "Re-assigning values to same variable"
      ],
      "metadata": {
        "id": "asLSq2BsAdJv"
      }
    },
    {
      "cell_type": "code",
      "metadata": {
        "id": "J_JYtsQWj90p",
        "colab": {
          "base_uri": "https://localhost:8080/"
        },
        "outputId": "655c0dfc-8736-4c6f-d106-e9bbb26fda2c"
      },
      "source": [
        "x = 6\n",
        "print(x)\n",
        "\n",
        "x = 'David'\n",
        "print(x)\n",
        "\n",
        "x = True\n",
        "print(x)\n"
      ],
      "execution_count": null,
      "outputs": [
        {
          "output_type": "stream",
          "name": "stdout",
          "text": [
            "6\n",
            "David\n",
            "True\n"
          ]
        }
      ]
    },
    {
      "cell_type": "markdown",
      "source": [
        "Add Variables"
      ],
      "metadata": {
        "id": "1V3fmHLnghWb"
      }
    },
    {
      "cell_type": "code",
      "metadata": {
        "id": "WchFjyn1oVui",
        "colab": {
          "base_uri": "https://localhost:8080/"
        },
        "outputId": "9c56e427-d6da-46cb-8dce-3070de454581"
      },
      "source": [
        "x = 5\n",
        "y = 10\n",
        "z = x + y\n",
        "print(z)\n",
        "\n",
        "firstname = 'Sanath'\n",
        "lastname = 'Jayasuriya'\n",
        "fullname = firstname + lastname\n",
        "fullname = firstname + ' ' + lastname\n",
        "print(fullname)"
      ],
      "execution_count": null,
      "outputs": [
        {
          "output_type": "stream",
          "name": "stdout",
          "text": [
            "15\n",
            "Sanath Jayasuriya\n"
          ]
        }
      ]
    },
    {
      "cell_type": "markdown",
      "source": [
        "True or False ( Some other example )"
      ],
      "metadata": {
        "id": "XEV2hPoyd9dP"
      }
    },
    {
      "cell_type": "code",
      "metadata": {
        "id": "HIQyTQpslLaK",
        "colab": {
          "base_uri": "https://localhost:8080/"
        },
        "outputId": "1cc71d0e-3427-40ef-d810-3a90e414d137"
      },
      "source": [
        "print('When 5 is devided by 2, Quotient is : ', 5//2)\n",
        "print('When 5 is devided by 2, Remainder is : ', 5%2)\n",
        "\n",
        "isEven =                   5%2 == 0\n",
        "\n",
        "print('Is 5 an even number ? : ', isEven)"
      ],
      "execution_count": null,
      "outputs": [
        {
          "output_type": "stream",
          "name": "stdout",
          "text": [
            "When 5 is devided by 2, Quotient is :  2\n",
            "When 5 is devided by 2, Remainder is :  1\n",
            "Is 5 an even number ? :  False\n"
          ]
        }
      ]
    },
    {
      "cell_type": "markdown",
      "source": [
        "Type and Casting"
      ],
      "metadata": {
        "id": "wdDFG0TLirkg"
      }
    },
    {
      "cell_type": "code",
      "metadata": {
        "id": "eO6iq147owFl",
        "colab": {
          "base_uri": "https://localhost:8080/",
          "height": 217
        },
        "outputId": "0598208d-65cc-4bfb-8119-e18bd604699c"
      },
      "source": [
        "x = 5\n",
        "y = '10'\n",
        "\n",
        "z = x + y\n",
        "print(z)"
      ],
      "execution_count": null,
      "outputs": [
        {
          "output_type": "error",
          "ename": "TypeError",
          "evalue": "ignored",
          "traceback": [
            "\u001b[0;31m---------------------------------------------------------------------------\u001b[0m",
            "\u001b[0;31mTypeError\u001b[0m                                 Traceback (most recent call last)",
            "\u001b[0;32m<ipython-input-7-cb1947df0bd1>\u001b[0m in \u001b[0;36m<module>\u001b[0;34m()\u001b[0m\n\u001b[1;32m      2\u001b[0m \u001b[0my\u001b[0m \u001b[0;34m=\u001b[0m \u001b[0;34m'10'\u001b[0m\u001b[0;34m\u001b[0m\u001b[0;34m\u001b[0m\u001b[0m\n\u001b[1;32m      3\u001b[0m \u001b[0;34m\u001b[0m\u001b[0m\n\u001b[0;32m----> 4\u001b[0;31m \u001b[0mz\u001b[0m \u001b[0;34m=\u001b[0m \u001b[0mx\u001b[0m \u001b[0;34m+\u001b[0m \u001b[0my\u001b[0m\u001b[0;34m\u001b[0m\u001b[0;34m\u001b[0m\u001b[0m\n\u001b[0m\u001b[1;32m      5\u001b[0m \u001b[0mprint\u001b[0m\u001b[0;34m(\u001b[0m\u001b[0mz\u001b[0m\u001b[0;34m)\u001b[0m\u001b[0;34m\u001b[0m\u001b[0;34m\u001b[0m\u001b[0m\n",
            "\u001b[0;31mTypeError\u001b[0m: unsupported operand type(s) for +: 'int' and 'str'"
          ]
        }
      ]
    },
    {
      "cell_type": "code",
      "source": [
        "x = 5\n",
        "y = '10'\n",
        "print(type(x))\n",
        "print(type(y))"
      ],
      "metadata": {
        "id": "Eckpoe7Slok6",
        "outputId": "6d1aa476-9206-4569-c520-81cdc611dbd2",
        "colab": {
          "base_uri": "https://localhost:8080/"
        }
      },
      "execution_count": null,
      "outputs": [
        {
          "output_type": "stream",
          "name": "stdout",
          "text": [
            "<class 'int'>\n",
            "<class 'str'>\n"
          ]
        }
      ]
    },
    {
      "cell_type": "code",
      "source": [
        "x = 5\n",
        "y = '10'\n",
        "yInt = int(y)\n",
        "\n",
        "type(yInt)"
      ],
      "metadata": {
        "id": "_Jt1ikutl12l",
        "outputId": "5bd3c790-9c55-41de-c376-740aae0ee34b",
        "colab": {
          "base_uri": "https://localhost:8080/"
        }
      },
      "execution_count": null,
      "outputs": [
        {
          "output_type": "execute_result",
          "data": {
            "text/plain": [
              "int"
            ]
          },
          "metadata": {},
          "execution_count": 9
        }
      ]
    },
    {
      "cell_type": "code",
      "source": [
        "x = 5\n",
        "y = '10'\n",
        "\n",
        "z = x + int(y)\n",
        "print(z)"
      ],
      "metadata": {
        "id": "6HoMInvGmPvI",
        "outputId": "abea0463-0393-479f-a837-231a8f5f9a01",
        "colab": {
          "base_uri": "https://localhost:8080/"
        }
      },
      "execution_count": null,
      "outputs": [
        {
          "output_type": "stream",
          "name": "stdout",
          "text": [
            "15\n"
          ]
        }
      ]
    },
    {
      "cell_type": "code",
      "metadata": {
        "id": "kVxi6eqjpKyl",
        "colab": {
          "base_uri": "https://localhost:8080/",
          "height": 217
        },
        "outputId": "5a85835c-e658-4ec9-933b-ad6fe716a5e4"
      },
      "source": [
        "x = 5\n",
        "y = '10.6'\n",
        "\n",
        "z = x + int(y)\n",
        "print(z)"
      ],
      "execution_count": null,
      "outputs": [
        {
          "output_type": "error",
          "ename": "ValueError",
          "evalue": "ignored",
          "traceback": [
            "\u001b[0;31m---------------------------------------------------------------------------\u001b[0m",
            "\u001b[0;31mValueError\u001b[0m                                Traceback (most recent call last)",
            "\u001b[0;32m<ipython-input-15-c09d39218b0f>\u001b[0m in \u001b[0;36m<module>\u001b[0;34m()\u001b[0m\n\u001b[1;32m      2\u001b[0m \u001b[0my\u001b[0m \u001b[0;34m=\u001b[0m \u001b[0;34m'10.6'\u001b[0m\u001b[0;34m\u001b[0m\u001b[0;34m\u001b[0m\u001b[0m\n\u001b[1;32m      3\u001b[0m \u001b[0;34m\u001b[0m\u001b[0m\n\u001b[0;32m----> 4\u001b[0;31m \u001b[0mz\u001b[0m \u001b[0;34m=\u001b[0m \u001b[0mx\u001b[0m \u001b[0;34m+\u001b[0m \u001b[0mint\u001b[0m\u001b[0;34m(\u001b[0m\u001b[0my\u001b[0m\u001b[0;34m)\u001b[0m\u001b[0;34m\u001b[0m\u001b[0;34m\u001b[0m\u001b[0m\n\u001b[0m\u001b[1;32m      5\u001b[0m \u001b[0mprint\u001b[0m\u001b[0;34m(\u001b[0m\u001b[0mz\u001b[0m\u001b[0;34m)\u001b[0m\u001b[0;34m\u001b[0m\u001b[0;34m\u001b[0m\u001b[0m\n",
            "\u001b[0;31mValueError\u001b[0m: invalid literal for int() with base 10: '10.6'"
          ]
        }
      ]
    },
    {
      "cell_type": "code",
      "source": [
        "x = 5\n",
        "y = '10.6'\n",
        "\n",
        "z = x + float(y)\n",
        "print(z)"
      ],
      "metadata": {
        "id": "CyozSzF0oOUb"
      },
      "execution_count": null,
      "outputs": []
    },
    {
      "cell_type": "markdown",
      "metadata": {
        "id": "uUQbcAWZ3teB"
      },
      "source": [
        "String Concatenation"
      ]
    },
    {
      "cell_type": "code",
      "metadata": {
        "id": "MFXzcNz2rr8G",
        "colab": {
          "base_uri": "https://localhost:8080/"
        },
        "outputId": "7b084178-a8da-41cf-cd83-94409146540a"
      },
      "source": [
        "name = 'David'\n",
        "age = 25\n",
        "\n",
        "print('My name is : ', name, 'and My age is :', age)\n",
        "print(f'Your name is {name} and your age is {age} ')\n",
        "print('Your name is {} and your age is {}'.format(age,name))"
      ],
      "execution_count": null,
      "outputs": [
        {
          "output_type": "stream",
          "name": "stdout",
          "text": [
            "My name is :  David and My age is : 25\n",
            "Your name is David and your age is 25 \n",
            "Your name is 25 and your age is David\n"
          ]
        }
      ]
    },
    {
      "cell_type": "markdown",
      "metadata": {
        "id": "k248Hre0Vvcj"
      },
      "source": [
        "# Conditional Execution"
      ]
    },
    {
      "cell_type": "markdown",
      "source": [
        "Introduction to Conditions"
      ],
      "metadata": {
        "id": "IFFVbuygsjGX"
      }
    },
    {
      "cell_type": "code",
      "metadata": {
        "id": "tvSZWgyKuLJH",
        "colab": {
          "base_uri": "https://localhost:8080/"
        },
        "outputId": "d65b929e-59c5-4368-e0d2-875be95713cd"
      },
      "source": [
        "6 == 5"
      ],
      "execution_count": null,
      "outputs": [
        {
          "output_type": "execute_result",
          "data": {
            "text/plain": [
              "False"
            ]
          },
          "metadata": {
            "tags": []
          },
          "execution_count": 13
        }
      ]
    },
    {
      "cell_type": "code",
      "metadata": {
        "id": "fzPfoygGul7z",
        "colab": {
          "base_uri": "https://localhost:8080/"
        },
        "outputId": "c48927c2-3508-47fc-c8d4-ddc0fb184db4"
      },
      "source": [
        "x = 100\n",
        "y = 200\n",
        "\n",
        "print(f'x is : {x} | y is {y}')\n",
        "print('----------------------------------------')\n",
        "print('x equals y :', x == y)\n",
        "print('x not equals x :', x != y)\n",
        "print('x is greater than y :', x > y)\n",
        "print('x is less than y :', x < y)\n",
        "print('x is greater than or equals to y :', x >= y)\n",
        "print('x is less than or equals to y :', x <= y)\n",
        "print('----------------------------------------')\n",
        "print('x equals y :', x is y)\n",
        "print('x not equals x :', x is not y)"
      ],
      "execution_count": null,
      "outputs": [
        {
          "output_type": "stream",
          "name": "stdout",
          "text": [
            "x is : 100 | y is 200\n",
            "----------------------------------------\n",
            "x equals y : False\n",
            "x not equals x : True\n",
            "x is greater than y : False\n",
            "x is less than y : True\n",
            "x is greater than or equals to y : False\n",
            "x is less than or equals to y : True\n",
            "----------------------------------------\n",
            "x equals y : False\n",
            "x not equals x : True\n"
          ]
        }
      ]
    },
    {
      "cell_type": "markdown",
      "source": [
        "Conditional Execution example"
      ],
      "metadata": {
        "id": "Cm_XpSqDsqgc"
      }
    },
    {
      "cell_type": "code",
      "metadata": {
        "id": "jVgXwrv2aSoM",
        "colab": {
          "base_uri": "https://localhost:8080/"
        },
        "outputId": "47ca9815-eb46-452b-d2b2-a15c566a53bd"
      },
      "source": [
        "x = 10\n",
        "y = 20\n",
        "\n",
        "# if x is greater than or y -> print \"Hello X is the BIG BOSS here\", Else print \"Hello, Y is the BIG BOSS here\"\n",
        "\n",
        "if x >= y:\n",
        "  print('Hello, X is the BIG BOSS here')\n",
        "else:\n",
        "  print('Hello, Y is the BIG BOSS here')"
      ],
      "execution_count": 1,
      "outputs": [
        {
          "output_type": "stream",
          "name": "stdout",
          "text": [
            "Hello, Y is the BIG BOSS here\n"
          ]
        }
      ]
    },
    {
      "cell_type": "code",
      "metadata": {
        "id": "0mMdzzK0zqrm",
        "colab": {
          "base_uri": "https://localhost:8080/"
        },
        "outputId": "b76401a4-3e43-486c-b2a4-167169b33264"
      },
      "source": [
        "x = 6\n",
        "y = 2\n",
        "print(x >= 2 and (x/y) > 2)\n",
        "\n",
        "x = 1\n",
        "y = 0\n",
        "print(x >= 2 and (x/y) > 2)\n",
        "\n",
        "x = 6\n",
        "y = 0\n",
        "print(x >= 2 and y != 0  and (x/y) > 2)"
      ],
      "execution_count": null,
      "outputs": [
        {
          "output_type": "stream",
          "text": [
            "True\n",
            "False\n",
            "False\n"
          ],
          "name": "stdout"
        }
      ]
    }
  ]
}