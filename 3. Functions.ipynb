{
  "nbformat": 4,
  "nbformat_minor": 0,
  "metadata": {
    "colab": {
      "name": "3. Functions.ipynb",
      "provenance": [],
      "collapsed_sections": [
        "XcNmpdaqVPCE"
      ]
    },
    "kernelspec": {
      "name": "python3",
      "display_name": "Python 3"
    }
  },
  "cells": [
    {
      "cell_type": "markdown",
      "metadata": {
        "id": "XcNmpdaqVPCE"
      },
      "source": [
        "# Functions"
      ]
    },
    {
      "cell_type": "markdown",
      "source": [
        "Looping through without Function"
      ],
      "metadata": {
        "id": "zXgwC7VGUmEr"
      }
    },
    {
      "cell_type": "code",
      "metadata": {
        "id": "fhRYbLxrVZJy",
        "outputId": "1b7450e0-4738-42cc-94fe-12e3edf87c7b",
        "colab": {
          "base_uri": "https://localhost:8080/"
        }
      },
      "source": [
        "#looping through the list\n",
        "numbers_1 = [2, 3, 4, 6]\n",
        "\n",
        "for number in numbers_1:\n",
        "  if number % 2 == 0:\n",
        "    print(number, ' is an even number ')\n",
        "  else:\n",
        "    print(number, ' is an odd number')\n",
        "\n",
        "numbers_2 = [5, 7, 8, 10]\n",
        "\n",
        "for number in numbers_2:\n",
        "  if number % 2 == 0:\n",
        "    print(number, ' is an even number ')\n",
        "  else:\n",
        "    print(number, ' is an odd number')"
      ],
      "execution_count": null,
      "outputs": [
        {
          "output_type": "stream",
          "name": "stdout",
          "text": [
            "2  is an even number \n",
            "3  is an odd number\n",
            "4  is an even number \n",
            "6  is an even number \n",
            "5  is an odd number\n",
            "7  is an odd number\n",
            "8  is an even number \n",
            "10  is an even number \n"
          ]
        }
      ]
    },
    {
      "cell_type": "code",
      "metadata": {
        "id": "u0_PhHONbuq6",
        "outputId": "75635aca-0d2f-4a59-eccc-dd81c3694f6b",
        "colab": {
          "base_uri": "https://localhost:8080/"
        }
      },
      "source": [
        "def even_odd(numbers):\n",
        "  for number in numbers:\n",
        "    if number % 2 == 0:\n",
        "      print(number,'is an even number')\n",
        "    else:\n",
        "      print(number,'is an odd number')\n",
        "\n",
        "numbers = [2, 3, 4, 6, 8, 11]\n",
        "even_odd(numbers)"
      ],
      "execution_count": null,
      "outputs": [
        {
          "output_type": "stream",
          "name": "stdout",
          "text": [
            "2 is an even number\n",
            "3 is an odd number\n",
            "4 is an even number\n",
            "6 is an even number\n",
            "8 is an even number\n",
            "11 is an odd number\n"
          ]
        }
      ]
    },
    {
      "cell_type": "markdown",
      "source": [
        "Another example on functions"
      ],
      "metadata": {
        "id": "b2nA_Nc-W3-2"
      }
    },
    {
      "cell_type": "code",
      "metadata": {
        "id": "J0u8ihKlaAt4",
        "outputId": "c3069629-b1de-43f2-982d-ad98e1ee220b",
        "colab": {
          "base_uri": "https://localhost:8080/"
        }
      },
      "source": [
        "def get_employee_data():\n",
        "  name = input('Please Enter your name: \\n')\n",
        "  email = input('Enter your email address: \\n')\n",
        "  age = input('Enter your age: ')\n",
        "  print('Welcome : ', name)\n",
        "  print('Your email : ', email)\n",
        "  print(type(age))\n",
        "  print('Your Age multiplied by 2 : ', int(age) * 2)\n",
        "\n",
        "\n",
        "get_employee_data()"
      ],
      "execution_count": null,
      "outputs": [
        {
          "output_type": "stream",
          "text": [
            "Please Enter your name: \n",
            "Vimu\n",
            "Enter your email address: \n",
            "vimuj@gmail.com\n",
            "Enter your age: 25\n",
            "Welcome :  Vimu\n",
            "Your email :  vimuj@gmail.com\n",
            "<class 'str'>\n",
            "Your Age multiplied by 2 :  50\n"
          ],
          "name": "stdout"
        }
      ]
    },
    {
      "cell_type": "markdown",
      "source": [
        "Example for Return"
      ],
      "metadata": {
        "id": "7MYSfkktdBAf"
      }
    },
    {
      "cell_type": "code",
      "metadata": {
        "id": "x2uvh0KvjgmJ",
        "outputId": "65c7a99f-25e3-435d-d192-3d2e95adaaf8",
        "colab": {
          "base_uri": "https://localhost:8080/"
        }
      },
      "source": [
        "# Defining a function to multipy the given two values\n",
        "def multiply(a,b):\n",
        "\n",
        "  z = a * b\n",
        "\n",
        "  return z\n",
        "\n",
        "\n",
        "x = 6\n",
        "y = 4\n",
        "results = multiply(x,y)\n",
        "print('Multiplied value: ',results)"
      ],
      "execution_count": null,
      "outputs": [
        {
          "output_type": "stream",
          "name": "stdout",
          "text": [
            "Multiplied value:  24\n"
          ]
        }
      ]
    },
    {
      "cell_type": "markdown",
      "source": [
        "Another Example for Return"
      ],
      "metadata": {
        "id": "fgn6_d14dzum"
      }
    },
    {
      "cell_type": "code",
      "metadata": {
        "id": "2VZPRsh1jYdC",
        "outputId": "6e89a943-e5da-4d55-f8ba-080ed8dcaa16",
        "colab": {
          "base_uri": "https://localhost:8080/"
        }
      },
      "source": [
        "def check_even(a):\n",
        "  status = None\n",
        "  if a % 2 == 0:\n",
        "    status = True\n",
        "  else:\n",
        "    status = False\n",
        "\n",
        "  return status \n",
        "\n",
        "z = check_even(5)\n",
        "print('Is 5 even ?: ',z)"
      ],
      "execution_count": null,
      "outputs": [
        {
          "output_type": "stream",
          "name": "stdout",
          "text": [
            "Is 5 even ?:  False\n"
          ]
        }
      ]
    },
    {
      "cell_type": "markdown",
      "source": [
        "Default parameters"
      ],
      "metadata": {
        "id": "fq7dHcfzejlz"
      }
    },
    {
      "cell_type": "code",
      "metadata": {
        "id": "7HO9KCGvjvZi",
        "outputId": "7d674e4b-6af2-4039-f1b0-510d7f74d75a",
        "colab": {
          "base_uri": "https://localhost:8080/"
        }
      },
      "source": [
        "def print_employee_details(name, email='info@lseg.com', phonenumber='0112416000'):\n",
        "  print(f'Name: {name}')\n",
        "  print(f'Email: {email}')\n",
        "  print(f'Phonenumber: {phonenumber}')\n",
        "\n",
        "\n",
        "print_employee_details('vimukthini', 'vimukthinij@gmail.com', '0716275565')\n",
        "print_employee_details('eranga')"
      ],
      "execution_count": null,
      "outputs": [
        {
          "output_type": "stream",
          "text": [
            "Name: vimukthini\n",
            "Email: vimukthinij@gmail.com\n",
            "Phonenumber: 0716275565\n",
            "Name: eranga\n",
            "Email: info@lseg.com\n",
            "Phonenumber: 0112416000\n"
          ],
          "name": "stdout"
        }
      ]
    },
    {
      "cell_type": "markdown",
      "source": [
        "Recursion"
      ],
      "metadata": {
        "id": "A9ZUn3VWUtjh"
      }
    },
    {
      "cell_type": "markdown",
      "source": [
        "Recursion is a common mathematical and programming concept. Recursion is Calling a function inside the same function"
      ],
      "metadata": {
        "id": "6nF7jIVGU3L5"
      }
    },
    {
      "cell_type": "markdown",
      "source": [
        "Factorial\n",
        "\n",
        "We can count the factorial by multiplying all the counting numbers less than and equal a given number.\n",
        "\n",
        "**0! = 1**\n",
        "\n",
        "**1! = 1**\n",
        "\n",
        "2! = 1 x 2 \n",
        "\n",
        "3! = 1 x 2 x 3\n",
        "\n",
        "4! = 1 x 2 x 3 x 4\n",
        "\n",
        "5! = 1 x 2 x 3 x 4 x 5\n",
        "\n",
        "6! = 1 x 2 x 3 x 4 x 5 x 6\n",
        "\n",
        "6! = 5! x 6\n",
        "\n",
        "\n",
        "\n",
        "\n",
        "\n",
        "7! = 6! x 7\n",
        "\n",
        "n! = (n-1)! x n"
      ],
      "metadata": {
        "id": "rV8fqkJBVX1I"
      }
    },
    {
      "cell_type": "code",
      "source": [
        "def count_factorial(n):\n",
        "\n",
        "  # do this later\n",
        "  if(n < 0):\n",
        "    return 'Not Allowed'\n",
        "\n",
        "  if n == 0:\n",
        "    return 1\n",
        "  else:\n",
        "    return count_factorial(n-1)*n"
      ],
      "metadata": {
        "id": "komv1Sq5UsqM"
      },
      "execution_count": 13,
      "outputs": []
    },
    {
      "cell_type": "code",
      "source": [
        "factorial = count_factorial(6)\n",
        "print(factorial)"
      ],
      "metadata": {
        "id": "PYa63KUmY0ZO",
        "outputId": "88e10e39-7de0-4e2f-f6b4-b50872f8fd23",
        "colab": {
          "base_uri": "https://localhost:8080/"
        }
      },
      "execution_count": 17,
      "outputs": [
        {
          "output_type": "stream",
          "name": "stdout",
          "text": [
            "720\n"
          ]
        }
      ]
    }
  ]
}